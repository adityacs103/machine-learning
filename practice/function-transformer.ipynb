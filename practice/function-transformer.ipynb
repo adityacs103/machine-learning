{
 "cells": [
  {
   "attachments": {},
   "cell_type": "markdown",
   "metadata": {},
   "source": [
    "### -Reciprocal transform\n",
    "### -power transform\n",
    "### -log transform\n",
    "### -Box-cox"
   ]
  },
  {
   "cell_type": "code",
   "execution_count": null,
   "metadata": {},
   "outputs": [],
   "source": []
  }
 ],
 "metadata": {
  "kernelspec": {
   "display_name": "ineuron-env",
   "language": "python",
   "name": "python3"
  },
  "language_info": {
   "name": "python",
   "version": "3.9.13 (main, Aug 25 2022, 23:51:50) [MSC v.1916 64 bit (AMD64)]"
  },
  "orig_nbformat": 4,
  "vscode": {
   "interpreter": {
    "hash": "a8dbe0d6a307f9beeaf56e800fe3f70c34d55ff465eece2b60b1f9b2096bde2b"
   }
  }
 },
 "nbformat": 4,
 "nbformat_minor": 2
}
